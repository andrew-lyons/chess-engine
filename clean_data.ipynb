{
 "cells": [
  {
   "cell_type": "code",
   "execution_count": 12,
   "metadata": {},
   "outputs": [],
   "source": [
    "with open('../datasets/chess/all_with_filtered_anotations_since1998.txt') as infile:\n",
    "    games = infile.readlines()[5:]"
   ]
  },
  {
   "cell_type": "code",
   "execution_count": 17,
   "metadata": {},
   "outputs": [],
   "source": [
    "games = games[:1500000]"
   ]
  },
  {
   "cell_type": "code",
   "execution_count": 18,
   "metadata": {},
   "outputs": [
    {
     "name": "stdout",
     "output_type": "stream",
     "text": [
      "{384, 385, 386, 387, 388, 389, 390, 391, 392, 393, 394, 395, 396, 397, 398, 399, 400, 401, 402, 403, 404, 405, 406, 407, 408, 409, 411, 412, 413, 414, 360, 361, 362, 363, 364, 365, 366, 367, 368, 369, 370, 371, 372, 373, 374, 375, 376, 377, 378, 379, 380, 381, 382, 383}\n",
      "3283587\n"
     ]
    }
   ],
   "source": [
    "moves = ''\n",
    "moves_layer = ''\n",
    "batches = []\n",
    "\n",
    "for game in games:\n",
    "    # moveset == ['W1.d4', 'B1.d5', 'W2.c4', ... ]\n",
    "    moveset = game.split(' ')[17:-1]\n",
    "\n",
    "    if len(moveset) >= 50:\n",
    "        moveset = moveset[:50]\n",
    "        for move in moveset:\n",
    "            moves_layer += move + ' '\n",
    "\n",
    "        if len(moves_layer) == 395:\n",
    "            moves += moves_layer + ' \\n'\n",
    "\n",
    "        batches.append(len(moves_layer))\n",
    "        moves_layer = ''\n",
    "\n",
    "print(set(batches))\n",
    "print(len(moves))"
   ]
  },
  {
   "cell_type": "code",
   "execution_count": 19,
   "metadata": {},
   "outputs": [],
   "source": [
    "with open('moves.txt', 'w') as outfile:\n",
    "    outfile.write(moves)\n",
    "    outfile.close"
   ]
  }
 ],
 "metadata": {
  "interpreter": {
   "hash": "49be06992e31b59305782b491bf9385f756e36c49d6ab51d1a994d7ce0ae2be4"
  },
  "kernelspec": {
   "display_name": "Python 3.8.12 64-bit ('tfmac': conda)",
   "name": "python3"
  },
  "language_info": {
   "codemirror_mode": {
    "name": "ipython",
    "version": 3
   },
   "file_extension": ".py",
   "mimetype": "text/x-python",
   "name": "python",
   "nbconvert_exporter": "python",
   "pygments_lexer": "ipython3",
   "version": "3.8.12"
  },
  "orig_nbformat": 4
 },
 "nbformat": 4,
 "nbformat_minor": 2
}
